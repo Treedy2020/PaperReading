{
 "cells": [
  {
   "cell_type": "markdown",
   "metadata": {},
   "source": [
    "## Loss Function\n",
    "### No margin loss\n",
    "$$\n",
    "-log(\\sigma(r_{\\theta}(x, y_{c}) - r_{\\theta}(x, y_{r}) ))\n",
    "$$\n",
    "### Margin component losss\n",
    "$$\n",
    "-log(\\sigma(r_{\\theta}(x, y_{c}) - r_{\\theta}(x, y_{r}) - m(r)))\n",
    "$$"
   ]
  },
  {
   "cell_type": "code",
   "execution_count": null,
   "metadata": {
    "vscode": {
     "languageId": "plaintext"
    }
   },
   "outputs": [],
   "source": [
    "my_name"
   ]
  }
 ],
 "metadata": {
  "language_info": {
   "name": "python"
  }
 },
 "nbformat": 4,
 "nbformat_minor": 2
}
