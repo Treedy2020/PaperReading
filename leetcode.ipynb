{
 "cells": [
  {
   "cell_type": "code",
   "execution_count": 28,
   "metadata": {},
   "outputs": [],
   "source": [
    "# 438. 找到字符串中所有字母异位词\n",
    "from typing import List\n",
    "from collections import Counter\n",
    "class Solution:\n",
    "    def findAnagrams(self, s: str, p: str) -> List[int]:\n",
    "        if len(s) < len(p):\n",
    "            return []\n",
    "        s_counter = Counter(s[:len(p)])\n",
    "        p_counter = Counter(p)\n",
    "        s_counter.subtract(p_counter)\n",
    "        for k in list(s_counter.keys()):\n",
    "            if s_counter[k] == 0:\n",
    "                del s_counter[k]\n",
    "        start_ind, result = 0, []\n",
    "        while True:\n",
    "            if len(s_counter) == 0:\n",
    "                result.append(start_ind)\n",
    "            if start_ind + len(p) == len(s):\n",
    "                break\n",
    "            else:\n",
    "                s_counter[s[start_ind]] = s_counter[s[start_ind]] - 1\n",
    "                s_counter[s[start_ind + len(p)]] = s_counter[s[start_ind + len(p)]] + 1\n",
    "                if s_counter[s[start_ind]] == 0:\n",
    "                    del s_counter[s[start_ind]]\n",
    "                if s_counter[s[start_ind + len(p)]] == 0:\n",
    "                    del s_counter[s[start_ind + len(p)]]\n",
    "                start_ind += 1\n",
    "        return result"
   ]
  }
 ],
 "metadata": {
  "kernelspec": {
   "display_name": "rag_chatbot",
   "language": "python",
   "name": "python3"
  },
  "language_info": {
   "codemirror_mode": {
    "name": "ipython",
    "version": 3
   },
   "file_extension": ".py",
   "mimetype": "text/x-python",
   "name": "python",
   "nbconvert_exporter": "python",
   "pygments_lexer": "ipython3",
   "version": "3.11.8"
  }
 },
 "nbformat": 4,
 "nbformat_minor": 2
}
